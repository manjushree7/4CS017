{
  "nbformat": 4,
  "nbformat_minor": 0,
  "metadata": {
    "colab": {
      "provenance": [],
      "authorship_tag": "ABX9TyNgI01kH73aGZBIWNX9BWkC",
      "include_colab_link": true
    },
    "kernelspec": {
      "name": "python3",
      "display_name": "Python 3"
    },
    "language_info": {
      "name": "python"
    }
  },
  "cells": [
    {
      "cell_type": "markdown",
      "metadata": {
        "id": "view-in-github",
        "colab_type": "text"
      },
      "source": [
        "<a href=\"https://colab.research.google.com/github/manjushree7/4CS017/blob/main/BigData_Workshop1.ipynb\" target=\"_parent\"><img src=\"https://colab.research.google.com/assets/colab-badge.svg\" alt=\"Open In Colab\"/></a>"
      ]
    },
    {
      "cell_type": "markdown",
      "source": [],
      "metadata": {
        "id": "3LIdA-QbLoW4"
      }
    },
    {
      "cell_type": "code",
      "execution_count": null,
      "metadata": {
        "colab": {
          "base_uri": "https://localhost:8080/"
        },
        "id": "acceFZNbLjwZ",
        "outputId": "2af50698-b0a9-4dc3-e7da-20061bf5b5ac"
      },
      "outputs": [
        {
          "name": "stdout",
          "output_type": "stream",
          "text": [
            "Please Enter Your First Name: Manjushree\n"
          ]
        }
      ],
      "source": [
        "\"\"\"To ask a value from the end user and store it to reuse later, first take a variable and store the value.\n",
        "The \"input\" keyword helps to take value from the end user \"\"\"\n",
        "first_name = input(\"Please Enter Your First Name: \")"
      ]
    },
    {
      "cell_type": "code",
      "source": [
        "\"\"\"To show the output python has a keyword \"print\" which prints the output\"\"\"\n",
        "print(first_name)"
      ],
      "metadata": {
        "colab": {
          "base_uri": "https://localhost:8080/"
        },
        "id": "iP_b6fCaL3O7",
        "outputId": "063ed037-d55a-42e7-8151-97bbb31db4c2"
      },
      "execution_count": null,
      "outputs": [
        {
          "output_type": "stream",
          "name": "stdout",
          "text": [
            "Manjushree\n"
          ]
        }
      ]
    },
    {
      "cell_type": "code",
      "source": [
        "\"\"\"Here we are asking user to enter a value and checks if its negative, non-negative or positive\n",
        "by the control structure\"\"\"\n",
        "value = int(input(\"Please Enter a Number: \")) #input keyword always takes any value as a string. Thus, we use int() function\n",
        "#it is called casting. It converts a value to different data types\n",
        "if value < 0:\n",
        "  print('The number is negative')\n",
        "elif value == 0:\n",
        "  print('The number is non-negative')\n",
        "else:\n",
        "  print('The number is positive')"
      ],
      "metadata": {
        "colab": {
          "base_uri": "https://localhost:8080/"
        },
        "id": "7o5i5HDrMCWU",
        "outputId": "ebd87ffc-db0c-4ddf-a4ec-bbefb3c13115"
      },
      "execution_count": null,
      "outputs": [
        {
          "output_type": "stream",
          "name": "stdout",
          "text": [
            "Please Enter a Number: -1234\n",
            "The number is negative\n"
          ]
        }
      ]
    },
    {
      "cell_type": "code",
      "source": [
        "\"\"\"Find the sum of all integers from 1 to 10 using while loop\"\"\"\n",
        "total = 0\n",
        "counter = 1\n",
        "while counter <= 10: #stopping condition\n",
        "  total = total + counter #sum\n",
        "  counter += 1 #increament\n",
        "print(total)"
      ],
      "metadata": {
        "colab": {
          "base_uri": "https://localhost:8080/"
        },
        "id": "k1jcYAvEMNFh",
        "outputId": "8d7f4e50-da8b-4c92-f3c4-19de843d68d9"
      },
      "execution_count": null,
      "outputs": [
        {
          "output_type": "stream",
          "name": "stdout",
          "text": [
            "55\n"
          ]
        }
      ]
    },
    {
      "cell_type": "code",
      "source": [
        "\"\"\"A list can be created using a comma-separated sequence within square brackets\"\"\"\n",
        "first_list = [1, 2, 3, 8]"
      ],
      "metadata": {
        "id": "UhBMEGQJMnML"
      },
      "execution_count": null,
      "outputs": []
    },
    {
      "cell_type": "code",
      "source": [
        "\"\"\"In a list, the individual items can be accessed by subscript/index:\"\"\"\n",
        "print(\"First value of the list is \", first_list[0])\n",
        "print(\"Last value of the list is \", first_list[-1])"
      ],
      "metadata": {
        "colab": {
          "base_uri": "https://localhost:8080/"
        },
        "id": "vj34kUGVMnTf",
        "outputId": "00a189b0-fa8e-4921-e2c0-71e636748593"
      },
      "execution_count": null,
      "outputs": [
        {
          "output_type": "stream",
          "name": "stdout",
          "text": [
            "First value of the list is  1\n",
            "Last value of the list is  8\n"
          ]
        }
      ]
    },
    {
      "cell_type": "code",
      "source": [
        "\"\"\"The elements of a list can also be accessed by traversing the list using the iterator mechanism:\"\"\"\n",
        "for values in first_list:\n",
        "  print(values)"
      ],
      "metadata": {
        "colab": {
          "base_uri": "https://localhost:8080/"
        },
        "id": "87uveYspMtNp",
        "outputId": "1e332bee-d64e-4376-fd91-5a616225828c"
      },
      "execution_count": null,
      "outputs": [
        {
          "output_type": "stream",
          "name": "stdout",
          "text": [
            "1\n",
            "2\n",
            "3\n",
            "8\n"
          ]
        }
      ]
    },
    {
      "cell_type": "code",
      "source": [
        "#append\n",
        "first_list.append(10)\n",
        "print(\"After adding another element in the list, the list is \", first_list)\n",
        "\n",
        "#modify\n",
        "first_list[2] = 5\n",
        "print(\"After modifying an element in the list, the list is \", first_list)\n",
        "\n",
        "#insert: elements can be inserted in any positon/index\n",
        "first_list.insert(2, 12)\n",
        "print(\"After inserting an element in the list in the third position, the list is \", first_list)"
      ],
      "metadata": {
        "colab": {
          "base_uri": "https://localhost:8080/"
        },
        "id": "fOO5HdmYMvwU",
        "outputId": "7d196832-6936-4391-b3ad-02b5545fc593"
      },
      "execution_count": null,
      "outputs": [
        {
          "output_type": "stream",
          "name": "stdout",
          "text": [
            "After adding another element in the list, the list is  [1, 2, 3, 8, 10]\n",
            "After modifying an element in the list, the list is  [1, 2, 5, 8, 10]\n",
            "After inserting an element in the list in the third position, the list is  [1, 2, 12, 5, 8, 10]\n"
          ]
        }
      ]
    },
    {
      "cell_type": "code",
      "source": [
        "\"\"\"There are lot of ways to access elements of the dictionary. However, we will parctice the most common one.\n",
        "The traversal using the iterator mechanism (for statement) is made over the keys in a dictionary\"\"\"\n",
        "zipCode = {'London':290, 'Leeds':578, 'Wolverhampton':911}\n",
        "for key in zipCode:\n",
        "  print(key, '= ', zipCode[key])"
      ],
      "metadata": {
        "colab": {
          "base_uri": "https://localhost:8080/"
        },
        "id": "zOYtosbXM1e0",
        "outputId": "87a762d5-4c51-4413-f763-a5cb8144c0db"
      },
      "execution_count": null,
      "outputs": [
        {
          "output_type": "stream",
          "name": "stdout",
          "text": [
            "London =  290\n",
            "Leeds =  578\n",
            "Wolverhampton =  911\n"
          ]
        }
      ]
    },
    {
      "cell_type": "code",
      "source": [
        "\"\"\"To explicitely find the list of keys or list value we can use the following\"\"\"\n",
        "key_list = zipCode.keys()\n",
        "value_list = zipCode.values()\n",
        "print(key_list)\n",
        "print(value_list)"
      ],
      "metadata": {
        "colab": {
          "base_uri": "https://localhost:8080/"
        },
        "id": "G9O-0Nb8M1Wg",
        "outputId": "1f4943bf-3a13-4446-9486-ac5f85ed623c"
      },
      "execution_count": null,
      "outputs": [
        {
          "output_type": "stream",
          "name": "stdout",
          "text": [
            "dict_keys(['London', 'Leeds', 'Wolverhampton'])\n",
            "dict_values([290, 578, 911])\n"
          ]
        }
      ]
    },
    {
      "cell_type": "code",
      "source": [
        "\"\"\"To change the value of a corresponding key we can do the following\"\"\"\n",
        "zipCode['London'] = 666\n",
        "for key in zipCode:\n",
        "  print(key, '= ', zipCode[key])"
      ],
      "metadata": {
        "colab": {
          "base_uri": "https://localhost:8080/"
        },
        "id": "AFgCsGDyNC6W",
        "outputId": "23836d90-5b34-436f-a3c2-03c596b9702e"
      },
      "execution_count": null,
      "outputs": [
        {
          "output_type": "stream",
          "name": "stdout",
          "text": [
            "London =  666\n",
            "Leeds =  578\n",
            "Wolverhampton =  911\n"
          ]
        }
      ]
    },
    {
      "cell_type": "code",
      "source": [
        "\"\"\"Using the same technique we can add another entry. However, the key must be unique.\n",
        "Duplicate key name will modify the value only\"\"\"\n",
        "zipCode['Birmingham'] = 111\n",
        "for key in zipCode:\n",
        "  print(key, '= ', zipCode[key])"
      ],
      "metadata": {
        "colab": {
          "base_uri": "https://localhost:8080/"
        },
        "id": "suIuODmcNHu0",
        "outputId": "a2535366-caf9-4677-d0fb-962c16a2b7ff"
      },
      "execution_count": null,
      "outputs": [
        {
          "output_type": "stream",
          "name": "stdout",
          "text": [
            "London =  666\n",
            "Leeds =  578\n",
            "Wolverhampton =  911\n",
            "Birmingham =  111\n"
          ]
        }
      ]
    },
    {
      "cell_type": "code",
      "source": [
        "def oddEven(num):\n",
        "  if num%2 == 0:\n",
        "    print('The number is even')\n",
        "  else:\n",
        "    print('The number is odd')\n",
        "  return\n",
        "num = int(input(\"Please Enter a Number: \"))\n",
        "oddEven(num)"
      ],
      "metadata": {
        "colab": {
          "base_uri": "https://localhost:8080/"
        },
        "id": "kwotmw0YNH6e",
        "outputId": "da272e5b-b287-4a96-8f1b-0d417aca9034"
      },
      "execution_count": null,
      "outputs": [
        {
          "output_type": "stream",
          "name": "stdout",
          "text": [
            "Please Enter a Number: 23\n",
            "The number is odd\n"
          ]
        }
      ]
    },
    {
      "cell_type": "markdown",
      "source": [
        "## Workshop Solutions\n"
      ],
      "metadata": {
        "id": "WL5-dG-VNV1z"
      }
    },
    {
      "cell_type": "code",
      "source": [
        "# Question 1\n"
      ],
      "metadata": {
        "id": "gt96tWwZNa7T"
      },
      "execution_count": null,
      "outputs": []
    }
  ]
}